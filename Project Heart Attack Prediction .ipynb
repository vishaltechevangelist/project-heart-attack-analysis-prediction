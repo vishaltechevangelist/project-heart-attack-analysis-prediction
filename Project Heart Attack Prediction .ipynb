{
 "cells": [
  {
   "cell_type": "markdown",
   "id": "cdcd2ce6",
   "metadata": {},
   "source": [
    "<h1 align='center'>Heart Attack Analysis and Prediction</h1>"
   ]
  },
  {
   "cell_type": "markdown",
   "id": "adb0d951",
   "metadata": {},
   "source": [
    "### Project Content\n",
    "1. [Introduction](#1)\n",
    "    * 1.1 [Examining the Project Topic](#2)"
   ]
  },
  {
   "cell_type": "markdown",
   "id": "c70a7f93",
   "metadata": {},
   "source": [
    "### 1. Introduction <a id = 1/></a>"
   ]
  },
  {
   "cell_type": "markdown",
   "id": "c5b0049f",
   "metadata": {},
   "source": [
    "#### 1.1 Examining the Project Topic <a id = 2></a>"
   ]
  },
  {
   "cell_type": "code",
   "execution_count": null,
   "id": "9a35250d",
   "metadata": {},
   "outputs": [],
   "source": []
  }
 ],
 "metadata": {
  "kernelspec": {
   "display_name": "ds_env",
   "language": "python",
   "name": "ds_env"
  },
  "language_info": {
   "codemirror_mode": {
    "name": "ipython",
    "version": 3
   },
   "file_extension": ".py",
   "mimetype": "text/x-python",
   "name": "python",
   "nbconvert_exporter": "python",
   "pygments_lexer": "ipython3",
   "version": "3.12.9"
  }
 },
 "nbformat": 4,
 "nbformat_minor": 5
}
